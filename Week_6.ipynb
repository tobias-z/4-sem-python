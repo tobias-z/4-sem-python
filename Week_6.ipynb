{
 "cells": [
  {
   "cell_type": "markdown",
   "source": [
    "# Week 3 handin"
   ],
   "metadata": {}
  },
  {
   "cell_type": "markdown",
   "source": [
    "# Handin Exercise 6\n",
    "\n",
    "Create a module containing a class: TextComparer with the following methods:\n",
    "1. `__init__(self, url_list)`\n",
    "2. `download(url,filename)` that stores the file on disk and raises NotFoundException when url returns 404\n",
    "3. `multi_download()` uses threads to download multiple urls as text and stores filenames on a property of the TextComparer class object (Hint: use the download() method and create the filenames from the url or from the response object)\n",
    "4. `__iter__()` returns an iterator\n",
    "5. `__next__()` returns the next filename (and stops when there are no more)\n",
    "6. `urllist_generator()` returns a generator to loop through the urls\n",
    "7. `avg_vowels(text)` - a rough estimate on readability returns average number of vowels in the words of the text\n",
    "8. `hardest_read()` reads all text from files in `filenames` and returns the filename of the text with the highest vowel score (use all the cpu cores on the computer for this work.\n",
    "\n",
    "### Ex 2\n",
    "Create a notebook and import your module from above\n",
    "1. Find 10 books on https://www.gutenberg.org/browse/scores/top and download them using an object of the class you just created before\n",
    "2. Test the different methods of your class\n",
    "3. Make a bar plot with a sorted list of books on x-axis and avg vowels on y-axis"
   ],
   "metadata": {}
  },
  {
   "cell_type": "markdown",
   "source": [
    "## 02 Status\n",
    "Here is a status on the handin. How far you got. What is implemented and what is not"
   ],
   "metadata": {}
  },
  {
   "cell_type": "markdown",
   "source": [
    "## 03 Solution part 1"
   ],
   "metadata": {}
  },
  {
   "cell_type": "code",
   "execution_count": 1,
   "source": [
    "# 2 Create a notebook and import your module from above\n",
    "from modules.week6.text_comparer import TextComparer"
   ],
   "outputs": [],
   "metadata": {}
  },
  {
   "cell_type": "code",
   "execution_count": 2,
   "source": [
    "# 2.1 Find 10 books\n",
    "comparer = TextComparer(\n",
    "    [\n",
    "        \"https://www.gutenberg.org/files/84/84-0.txt\",\n",
    "        \"https://www.gutenberg.org/files/1342/1342-0.txt\",\n",
    "        \"https://www.gutenberg.org/files/25344/25344-0.txt\",\n",
    "        \"https://www.gutenberg.org/files/11/11-0.txt\",\n",
    "        \"https://www.gutenberg.org/files/2701/2701-0.txt\",\n",
    "        \"https://www.gutenberg.org/files/1952/1952-0.txt\",\n",
    "        \"https://www.gutenberg.org/files/1661/1661-0.txt\",\n",
    "        \"https://www.gutenberg.org/files/345/345-0.txt\",\n",
    "        \"https://www.gutenberg.org/files/2542/2542-0.txt\",\n",
    "        \"https://www.gutenberg.org/files/43/43-0.txt\"\n",
    "    ]\n",
    ")"
   ],
   "outputs": [],
   "metadata": {}
  },
  {
   "cell_type": "code",
   "execution_count": 3,
   "source": [
    "# 2.2 Test the different methods on your class\n",
    "comparer.multi_download()"
   ],
   "outputs": [],
   "metadata": {}
  },
  {
   "cell_type": "markdown",
   "source": [
    "## 04 Solution part 2"
   ],
   "metadata": {}
  },
  {
   "cell_type": "code",
   "execution_count": 4,
   "source": [
    "# class iterator\n",
    "iterator = iter(comparer)\n",
    "try:\n",
    "    [print(next(iterator)) for _ in range(0, 5)]\n",
    "except StopIteration as e:\n",
    "    print(type(e))"
   ],
   "outputs": [
    {
     "output_type": "stream",
     "name": "stdout",
     "text": [
      "files/books/84-0.txt\n",
      "files/books/1342-0.txt\n",
      "files/books/25344-0.txt\n",
      "files/books/11-0.txt\n",
      "files/books/2701-0.txt\n"
     ]
    }
   ],
   "metadata": {}
  },
  {
   "cell_type": "code",
   "execution_count": 5,
   "source": [
    "# urllist_generator\n",
    "urllist = comparer.urllist_generator()\n",
    "try:\n",
    "    [print(next(urllist)) for _ in range(0, 5)]\n",
    "except StopIteration as e:\n",
    "    print(type(e))"
   ],
   "outputs": [
    {
     "output_type": "stream",
     "name": "stdout",
     "text": [
      "https://www.gutenberg.org/files/84/84-0.txt\n",
      "https://www.gutenberg.org/files/1342/1342-0.txt\n",
      "https://www.gutenberg.org/files/25344/25344-0.txt\n",
      "https://www.gutenberg.org/files/11/11-0.txt\n",
      "https://www.gutenberg.org/files/2701/2701-0.txt\n"
     ]
    }
   ],
   "metadata": {}
  },
  {
   "cell_type": "code",
   "execution_count": 6,
   "source": [
    "sorted_hardest_books = comparer.hardest_read()"
   ],
   "outputs": [],
   "metadata": {}
  },
  {
   "cell_type": "code",
   "execution_count": 7,
   "source": [
    "# Make a bar plot with a sorted list of books on x-axis and avg vowels on y-axis\n",
    "import matplotlib.pyplot as plt\n",
    "\n",
    "plt.figure(figsize= (12, 8))\n",
    "plt.bar(sorted_hardest_books.keys(), sorted_hardest_books.values(), width=0.5)"
   ],
   "outputs": [
    {
     "output_type": "execute_result",
     "data": {
      "text/plain": [
       "<BarContainer object of 10 artists>"
      ]
     },
     "metadata": {},
     "execution_count": 7
    },
    {
     "output_type": "display_data",
     "data": {
      "image/png": "[encoded data removed]",
      "text/plain": [
       "<Figure size 864x576 with 1 Axes>"
      ]
     },
     "metadata": {
      "needs_background": "light"
     }
    }
   ],
   "metadata": {}
  }
 ],
 "metadata": {
  "kernelspec": {
   "name": "python3",
   "display_name": "Python 3.7.6 64-bit ('base': conda)"
  },
  "language_info": {
   "codemirror_mode": {
    "name": "ipython",
    "version": 3
   },
   "file_extension": ".py",
   "mimetype": "text/x-python",
   "name": "python",
   "nbconvert_exporter": "python",
   "pygments_lexer": "ipython3",
   "version": "3.7.6"
  },
  "interpreter": {
   "hash": "d4d1e4263499bec80672ea0156c357c1ee493ec2b1c70f0acce89fc37c4a6abe"
  }
 },
 "nbformat": 4,
 "nbformat_minor": 4
}