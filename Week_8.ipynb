{
 "cells": [
  {
   "cell_type": "markdown",
   "metadata": {},
   "source": [
    "# Week 3 handin"
   ]
  },
  {
   "cell_type": "markdown",
   "metadata": {},
   "source": [
    "# week 9 Exercise Feature space\n",
    "\n",
    "## Ex 1\n",
    "`Data = 'https://think.cs.vt.edu/corgis/datasets/csv/cars/cars.csv'`\n",
    "### Download the data\n",
    "\n",
    "- Programatically download the data from the above link.\n",
    "- Import the data into a Pandas dataframe.\n",
    "- Show the head of the Pandas dataframe.\n",
    "\n",
    "### Feature engineering\n",
    "- Reduce the dataset by:\n",
    "  - Make == Honda\n",
    "  - Fueltype == Gasoline\n",
    "  - Remove outliers. Hint: `df[column name'] < df['column name'].quantile(0.90)`\n",
    "  - Only use 2 features: 'Fuel Information.Highway mpg' and 'Engine Information.Engine Statistics.Horsepower'\n",
    "  - Normalize data (reduce values to be between 0 and 1)\n",
    "  \n",
    "### Linear regression\n",
    "\n",
    "- Perform linear regression where x = horsepower and y = mpg\n",
    "- What is the coefficient (slope) of your model? What does this number mean?\n",
    "- According to your model, what is `y` when `x=1`.\n",
    "- Show the regression line on a scatterplot with the other datapoints."
   ]
  },
  {
   "cell_type": "markdown",
   "metadata": {},
   "source": [
    "## 02 Status\n",
    "Here is a status on the handin. How far you got. What is implemented and what is not"
   ]
  },
  {
   "cell_type": "markdown",
   "metadata": {},
   "source": [
    "## 03 Solution part 1"
   ]
  },
  {
   "cell_type": "code",
   "execution_count": 1,
   "metadata": {},
   "outputs": [
    {
     "name": "stdout",
     "output_type": "stream",
     "text": [
      "Populating the interactive namespace from numpy and matplotlib\n"
     ]
    }
   ],
   "source": [
    "%pylab inline \n",
    "import pandas as pd\n",
    "import numpy as np\n",
    "from sklearn.preprocessing import OneHotEncoder\n",
    "from sklearn.linear_model import LinearRegression"
   ]
  },
  {
   "cell_type": "code",
   "execution_count": 2,
   "metadata": {},
   "outputs": [
    {
     "name": "stdout",
     "output_type": "stream",
     "text": [
      "   Dimensions.Height  Dimensions.Length  Dimensions.Width  \\\n",
      "0                140                143               202   \n",
      "\n",
      "  Engine Information.Driveline        Engine Information.Engine Type  \\\n",
      "0              All-wheel drive  Audi 3.2L 6 cylinder 250hp 236ft-lbs   \n",
      "\n",
      "   Engine Information.Hybrid  Engine Information.Number of Forward Gears  \\\n",
      "0                       True                                           6   \n",
      "\n",
      "  Engine Information.Transmission  Fuel Information.City mpg  \\\n",
      "0  6 Speed Automatic Select Shift                         18   \n",
      "\n",
      "  Fuel Information.Fuel Type  Fuel Information.Highway mpg  \\\n",
      "0                   Gasoline                            25   \n",
      "\n",
      "  Identification.Classification Identification.ID Identification.Make  \\\n",
      "0        Automatic transmission  2009 Audi A3 3.2                Audi   \n",
      "\n",
      "  Identification.Model Year  Identification.Year  \\\n",
      "0              2009 Audi A3                 2009   \n",
      "\n",
      "   Engine Information.Engine Statistics.Horsepower  \\\n",
      "0                                              250   \n",
      "\n",
      "   Engine Information.Engine Statistics.Torque  \n",
      "0                                          236  \n"
     ]
    }
   ],
   "source": [
    "# 1.2 some code here with docstrings\n",
    "url = \"https://think.cs.vt.edu/corgis/datasets/csv/cars/cars.csv\"\n",
    "df = pd.read_csv(url, sep=\",\", encoding=\"utf-8\")\n",
    "print(df.head(1))"
   ]
  },
  {
   "cell_type": "code",
   "execution_count": 3,
   "metadata": {},
   "outputs": [],
   "source": [
    "is_honda = df[\"Identification.Make\"] == \"Honda\"\n",
    "is_gasoline = df[\"Fuel Information.Fuel Type\"] == \"Gasoline\"\n",
    "df = df[is_honda & is_gasoline]"
   ]
  },
  {
   "cell_type": "markdown",
   "metadata": {},
   "source": [
    "## 04 Solution part 2"
   ]
  },
  {
   "cell_type": "code",
   "execution_count": 4,
   "metadata": {},
   "outputs": [
    {
     "name": "stdout",
     "output_type": "stream",
     "text": [
      "19.8 178.20000000000002\n",
      "19.8 178.20000000000002\n"
     ]
    }
   ],
   "source": [
    "# 2.1\n",
    "from typing import List\n",
    "\n",
    "def remove_outliers(df, col_names: List[str]) -> pd.DataFrame:\n",
    "    new_df = None\n",
    "\n",
    "    for col_name in col_names:\n",
    "        df = df.sort_values(by=col_name)\n",
    "        lower, upper = get_lower_and_upper_percentile(df)\n",
    "        if new_df is None:\n",
    "            new_df = df.iloc[lower:]\n",
    "        else:\n",
    "            new_df = new_df.iloc[lower:]\n",
    "        new_df = new_df.iloc[:upper]\n",
    "\n",
    "    return new_df\n",
    "\n",
    "def get_lower_and_upper_percentile(df):\n",
    "    samples = len(df)\n",
    "    lower = 0.10 * samples\n",
    "    upper = 0.90 * samples\n",
    "    return int(lower), int(upper)\n",
    "\n",
    "fuel = \"Fuel Information.Highway mpg\"\n",
    "horse = \"Engine Information.Engine Statistics.Horsepower\"\n",
    "df = remove_outliers(df, [fuel, horse])"
   ]
  },
  {
   "cell_type": "code",
   "execution_count": 5,
   "metadata": {},
   "outputs": [
    {
     "name": "stdout",
     "output_type": "stream",
     "text": [
      "[[1. 0. 0. ... 0. 0. 0.]\n",
      " [1. 0. 0. ... 0. 0. 0.]\n",
      " [1. 0. 0. ... 0. 0. 0.]\n",
      " ...\n",
      " [0. 0. 0. ... 0. 0. 1.]\n",
      " [0. 0. 0. ... 0. 0. 1.]\n",
      " [0. 0. 0. ... 0. 0. 1.]]\n",
      "[[0. 0. 0. ... 0. 1. 0.]\n",
      " [0. 0. 0. ... 0. 0. 0.]\n",
      " [0. 0. 0. ... 0. 0. 1.]\n",
      " ...\n",
      " [0. 0. 1. ... 0. 0. 0.]\n",
      " [0. 0. 1. ... 0. 0. 0.]\n",
      " [0. 0. 1. ... 0. 0. 0.]]\n"
     ]
    }
   ],
   "source": [
    "encoder = OneHotEncoder()\n",
    "n = df[fuel].to_numpy().reshape(-1, 1)\n",
    "i = df[horse].to_numpy().reshape(-1, 1)\n",
    "fuel_encode = encoder.fit_transform(n).todense()\n",
    "horse_encode = encoder.fit_transform(i).todense()\n",
    "print(fuel_encode)\n",
    "print(horse_encode)"
   ]
  },
  {
   "cell_type": "code",
   "execution_count": 6,
   "metadata": {},
   "outputs": [
    {
     "name": "stdout",
     "output_type": "stream",
     "text": [
      "[-0.05976935]\n",
      "[42.78283148]\n"
     ]
    }
   ],
   "source": [
    "model = LinearRegression()\n",
    "model.fit(i, df[fuel])\n",
    "print(model.coef_)\n",
    "print(model.predict([[1]]))"
   ]
  },
  {
   "cell_type": "code",
   "execution_count": 7,
   "metadata": {},
   "outputs": [
    {
     "data": {
      "text/plain": [
       "<seaborn.axisgrid.PairGrid at 0x7fbb8b2c4c90>"
      ]
     },
     "execution_count": 7,
     "metadata": {},
     "output_type": "execute_result"
    },
    {
     "data": {
      "image/png": "[encoded data removed]",
      "text/plain": [
       "<Figure size 360x360 with 6 Axes>"
      ]
     },
     "metadata": {
      "needs_background": "light"
     },
     "output_type": "display_data"
    }
   ],
   "source": [
    "import seaborn as sb\n",
    "\n",
    "data_frame = df[[horse, fuel]]\n",
    "\n",
    "sb.pairplot(data_frame)"
   ]
  }
 ],
 "metadata": {
  "interpreter": {
   "hash": "d4d1e4263499bec80672ea0156c357c1ee493ec2b1c70f0acce89fc37c4a6abe"
  },
  "kernelspec": {
   "display_name": "Python 3.7.6 64-bit ('base': conda)",
   "name": "python3"
  },
  "language_info": {
   "codemirror_mode": {
    "name": "ipython",
    "version": 3
   },
   "file_extension": ".py",
   "mimetype": "text/x-python",
   "name": "python",
   "nbconvert_exporter": "python",
   "pygments_lexer": "ipython3",
   "version": "3.7.6"
  }
 },
 "nbformat": 4,
 "nbformat_minor": 4
}
