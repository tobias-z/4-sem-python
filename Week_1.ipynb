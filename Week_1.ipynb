{
 "cells": [
  {
   "cell_type": "markdown",
   "source": [
    "# Week 1 handin"
   ],
   "metadata": {}
  },
  {
   "cell_type": "markdown",
   "source": [
    "## 01 Assignment\n",
    "- Create 5 list comprehensions to solve the following 5 problems:\n",
    "\n",
    "  - Iterate a list of names to return a list of the names starting with H\n",
    "  - In one line create a list of the numbers 1-100 to the power of 3\n",
    "  - Iterate a list of names to create a list of tuples where the tuples first value is the length of the name and the second is the name\n",
    "  - Iterate over each character in a string and get only those that are nummeric\n",
    "  - Using only a list comprehension wrapped in set() get all possible combination from throwing 2 dice (hint use 2 for loops in a single list comprehension)\n",
    "\n",
    "---\n",
    "\n",
    "- Create 2 dictionary comprehensions to solve the following:\n",
    "  - Iterate a list of names and create a dictionary where key is the name and value is the length of the name\n",
    "  - Iterate a list of numbers and create a dictionary with {key:value} being {number:squareroot_of_number}\n",
    "\n",
    "---\n",
    "\n",
    "- Extra assignment (This one goes beyond what is covered in the course notebooks. So only do it if you want an extra challenge).\n",
    "\n",
    "  - Progammatically using loops create a small program to produce a dictionary with all the 2 dice throw combinations as keys (eg: 2,3,4...etc) and their likelyhood in percent as values"
   ],
   "metadata": {}
  },
  {
   "cell_type": "markdown",
   "source": [
    "## 02 Status\n",
    "I was able to implement all of the assigned tasks 🎉\n",
    "\n",
    "I did some reseach on python testing, and setup pytest with tests folder and a pyproject.toml for as it's config.\n",
    "\n",
    "I setup github actions to validate my tests when being pushed"
   ],
   "metadata": {}
  },
  {
   "cell_type": "markdown",
   "source": [
    "## 03 Solution part 1"
   ],
   "metadata": {}
  },
  {
   "cell_type": "code",
   "execution_count": 17,
   "source": [
    "# Setup names\n",
    "names = [\"Bob\", \"Bob2\", \"Arik\", \"Jens\", \"Thomas\", \"Tobias\", \"Jones\", \"Hans\"]"
   ],
   "outputs": [],
   "metadata": {}
  },
  {
   "cell_type": "code",
   "execution_count": 18,
   "source": [
    "# 1.0 Names starting with H\n",
    "print([name for name in names if name.startswith(\"H\")])"
   ],
   "outputs": [
    {
     "output_type": "stream",
     "name": "stdout",
     "text": [
      "['Hans']\n"
     ]
    }
   ],
   "metadata": {}
  },
  {
   "cell_type": "code",
   "execution_count": 19,
   "source": [
    "# 1.1 Not going to print this since it quite large\n",
    "with_power_of_three = [x ** 3 for x in list(range(1, 100))]"
   ],
   "outputs": [],
   "metadata": {}
  },
  {
   "cell_type": "code",
   "execution_count": 20,
   "source": [
    "# 1.2  Array of tuples\n",
    "name_tuple = [(len(name), name) for name in names]\n",
    "print(name_tuple)"
   ],
   "outputs": [
    {
     "output_type": "stream",
     "name": "stdout",
     "text": [
      "[(3, 'Bob'), (4, 'Bob2'), (4, 'Arik'), (4, 'Jens'), (6, 'Thomas'), (6, 'Tobias'), (5, 'Jones'), (4, 'Hans')]\n"
     ]
    }
   ],
   "metadata": {}
  },
  {
   "cell_type": "code",
   "execution_count": 21,
   "source": [
    "# 1.3 Only numaric values\n",
    "some_string = \"dsadjsakdasda21dsad2131dasd1231\"\n",
    "print(\"\".join([char for char in some_string if char.isdigit()]))"
   ],
   "outputs": [
    {
     "output_type": "stream",
     "name": "stdout",
     "text": [
      "2121311231\n"
     ]
    }
   ],
   "metadata": {}
  },
  {
   "cell_type": "code",
   "execution_count": 22,
   "source": [
    "# 1.4 Get all possiple combinations of a dice throw\n",
    "dice_throw_combinations = set([(x, y) for x in range(1, 7) for y in range(1, 7)])\n",
    "print(sorted(dice_throw_combinations))"
   ],
   "outputs": [
    {
     "output_type": "stream",
     "name": "stdout",
     "text": [
      "[(1, 1), (1, 2), (1, 3), (1, 4), (1, 5), (1, 6), (2, 1), (2, 2), (2, 3), (2, 4), (2, 5), (2, 6), (3, 1), (3, 2), (3, 3), (3, 4), (3, 5), (3, 6), (4, 1), (4, 2), (4, 3), (4, 4), (4, 5), (4, 6), (5, 1), (5, 2), (5, 3), (5, 4), (5, 5), (5, 6), (6, 1), (6, 2), (6, 3), (6, 4), (6, 5), (6, 6)]\n"
     ]
    }
   ],
   "metadata": {}
  },
  {
   "cell_type": "markdown",
   "source": [
    "## 04 Solution part 2"
   ],
   "metadata": {}
  },
  {
   "cell_type": "code",
   "execution_count": 23,
   "source": [
    "# 2.0 dictionary of names Ex: {\"bob\", 3}\n",
    "print(dict((name, len(name)) for name in names))"
   ],
   "outputs": [
    {
     "output_type": "stream",
     "name": "stdout",
     "text": [
      "{'Bob': 3, 'Bob2': 4, 'Arik': 4, 'Jens': 4, 'Thomas': 6, 'Tobias': 6, 'Jones': 5, 'Hans': 4}\n"
     ]
    }
   ],
   "metadata": {}
  },
  {
   "cell_type": "code",
   "execution_count": 24,
   "source": [
    "# 2.1 dictionary of names Ex: {3, 9}\n",
    "import math\n",
    "numbers = [1, 2, 1321, 32131, 3, 4, 6]\n",
    "print(dict((number, math.sqrt(number)) for number in numbers))"
   ],
   "outputs": [
    {
     "output_type": "stream",
     "name": "stdout",
     "text": [
      "{1: 1.0, 2: 1.4142135623730951, 1321: 36.345563690772494, 32131: 179.25122035846786, 3: 1.7320508075688772, 4: 2.0, 6: 2.449489742783178}\n"
     ]
    }
   ],
   "metadata": {}
  },
  {
   "cell_type": "markdown",
   "source": [],
   "metadata": {}
  },
  {
   "cell_type": "markdown",
   "source": [
    "## Extra assignment"
   ],
   "metadata": {}
  },
  {
   "cell_type": "code",
   "execution_count": 26,
   "source": [
    "# Find the likelyhood of each combination.\n",
    "# Formula: Probability in % = (No. of favorable comes / No. of all possible outcomes) * 100\n",
    "# Ex: (2 - (1, 1) = 1 occorance):\n",
    "# (1/36) * 100 = 2.777\n",
    "def calculate_percent(x: int):\n",
    "    occorances = len([(dice1, dice2) for (dice1, dice2) in dice_throw_combinations if dice1 + dice2 == x])\n",
    "    return str((occorances / len(dice_throw_combinations) * 100)) + \"%\"\n",
    "\n",
    "print(dict((x, calculate_percent(x)) for x in range(2, 13)))"
   ],
   "outputs": [
    {
     "output_type": "stream",
     "name": "stdout",
     "text": [
      "{2: '2.7777777777777777%', 3: '5.555555555555555%', 4: '8.333333333333332%', 5: '11.11111111111111%', 6: '13.88888888888889%', 7: '16.666666666666664%', 8: '13.88888888888889%', 9: '11.11111111111111%', 10: '8.333333333333332%', 11: '5.555555555555555%', 12: '2.7777777777777777%'}\n"
     ]
    }
   ],
   "metadata": {}
  }
 ],
 "metadata": {
  "kernelspec": {
   "name": "python3",
   "display_name": "Python 3.8.8 64-bit ('base': conda)"
  },
  "language_info": {
   "codemirror_mode": {
    "name": "ipython",
    "version": 3
   },
   "file_extension": ".py",
   "mimetype": "text/x-python",
   "name": "python",
   "nbconvert_exporter": "python",
   "pygments_lexer": "ipython3",
   "version": "3.8.8"
  },
  "interpreter": {
   "hash": "ac58e086c935e815c20ca5621c0aa3eabf25dd3971a29609f474f593c3a024e2"
  }
 },
 "nbformat": 4,
 "nbformat_minor": 4
}