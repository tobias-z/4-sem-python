{
 "cells": [
  {
   "cell_type": "code",
   "execution_count": null,
   "metadata": {},
   "outputs": [],
   "source": [
    "def plot_babies(babies: List[Baby]):\n",
    "    fig = plt.figure()\n",
    "    ax = fig.add_subplot(111, projection=\"3d\")\n",
    "    x = [baby.gender for baby in babies]\n",
    "    y = [baby.weight for baby in babies]\n",
    "    z = [baby.height for baby in babies]\n",
    "    ax.scatter(x, y, z, linewidth=0.2)\n",
    "\n",
    "\n",
    "def read_babies():\n",
    "    babies: List[Baby] = []\n",
    "    with open(BABY_FILE, \"r\") as f:\n",
    "        reader = csv.reader(f)\n",
    "        header = next(reader)\n",
    "        print(header)\n",
    "        for row in reader:\n",
    "            babies.append(Baby(row[0], row[1], row[2]))\n",
    "\n",
    "    plot_babies(babies)"
   ]
  }
 ],
 "metadata": {
  "language_info": {
   "name": "python"
  },
  "orig_nbformat": 4
 },
 "nbformat": 4,
 "nbformat_minor": 2
}
