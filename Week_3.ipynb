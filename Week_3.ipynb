{
 "cells": [
  {
   "cell_type": "markdown",
   "source": [
    "# Week 3 handin"
   ],
   "metadata": {}
  },
  {
   "cell_type": "markdown",
   "source": [
    "## 01 Assignment\n",
    "Here is the text for the assignment linked to"
   ],
   "metadata": {}
  },
  {
   "cell_type": "markdown",
   "source": [
    "## 02 Status\n",
    "Here is a status on the handin. How far you got. What is implemented and what is not"
   ],
   "metadata": {}
  },
  {
   "cell_type": "markdown",
   "source": [
    "## 03 Solution part 1"
   ],
   "metadata": {}
  },
  {
   "cell_type": "code",
   "execution_count": 1,
   "source": [
    "# 1.0\n",
    "%matplotlib notebook\n",
    "%matplotlib inline\n",
    "from modules.week3.student_utils import read_students, create_students\n",
    "import matplotlib.pyplot as plot"
   ],
   "outputs": [],
   "metadata": {}
  },
  {
   "cell_type": "code",
   "execution_count": 2,
   "source": [
    "# Create students\n",
    "students = create_students(10)\n",
    "print(students)"
   ],
   "outputs": [
    {
     "output_type": "stream",
     "name": "stdout",
     "text": [
      "[name: Jens, img_url: https://student-image.com/jens, average grade: 0.0 progression: 20.0\n",
      ", name: Alice, img_url: https://student-image.com/alice, average grade: 4.666666666666667 progression: 60.0\n",
      ", name: Johan, img_url: https://student-image.com/johan, average grade: 2.0 progression: 20.0\n",
      ", name: Hans, img_url: https://student-image.com/hans, average grade: 5.6 progression: 100.0\n",
      ", name: Bob, img_url: https://student-image.com/bob, average grade: 12.0 progression: 20.0\n",
      ", name: Someone, img_url: https://student-image.com/someone, average grade: 1.0 progression: 40.0\n",
      ", name: Amalie, img_url: https://student-image.com/amalie, average grade: 1.0 progression: 40.0\n",
      ", name: Jon, img_url: https://student-image.com/jon, average grade: 8.666666666666666 progression: 60.0\n",
      ", name: Tobias, img_url: https://student-image.com/tobias, average grade: 7.0 progression: 80.0\n",
      ", name: Carl-Emil, img_url: https://student-image.com/carl-emil, average grade: 0.0 progression: 0.0\n",
      "]\n"
     ]
    }
   ],
   "metadata": {}
  },
  {
   "cell_type": "code",
   "execution_count": 3,
   "source": [
    "# read students from csv file\n",
    "all_students = read_students()\n",
    "\n",
    "# Create bar out of the students\n",
    "plot.bar(\n",
    "    [s.name for s in all_students],\n",
    "    height=[s.get_avg_grade() for s in all_students],\n",
    "    width=0.5,\n",
    "    align=\"center\"\n",
    ")\n",
    "plot.xticks(rotation=45, horizontalalignment=\"right\", fontweight=\"light\")"
   ],
   "outputs": [
    {
     "output_type": "stream",
     "name": "stdout",
     "text": [
      "['stud_name', ' course_name', ' teacher_name', ' gender', ' ects', ' classroom', ' grade', ' img_url']\n",
      "name: Jens, img_url:  https://student-image.com/jens, average grade: 12.0 progression: 0.0\n",
      "\n",
      "name: Alice, img_url:  https://student-image.com/alice, average grade: 4.666666666666667 progression: 0.0\n",
      "\n",
      "name: Johan, img_url:  https://student-image.com/johan, average grade: 2.0 progression: 0.0\n",
      "\n",
      "name: Hans, img_url:  https://student-image.com/hans, average grade: 6.4 progression: 0.0\n",
      "\n",
      "name: Bob, img_url:  https://student-image.com/bob, average grade: 0.0 progression: 0.0\n",
      "\n",
      "name: Someone, img_url:  https://student-image.com/someone, average grade: 5.0 progression: 0.0\n",
      "\n",
      "name: Amalie, img_url:  https://student-image.com/amalie, average grade: 6.0 progression: 0.0\n",
      "\n",
      "name: Jon, img_url:  https://student-image.com/jon, average grade: 3.0 progression: 0.0\n",
      "\n"
     ]
    },
    {
     "output_type": "execute_result",
     "data": {
      "text/plain": [
       "([0, 1, 2, 3, 4, 5, 6, 7, 8], <a list of 9 Text major ticklabel objects>)"
      ]
     },
     "metadata": {},
     "execution_count": 3
    },
    {
     "output_type": "display_data",
     "data": {
      "image/png": "[encoded data removed]",
      "text/plain": [
       "<Figure size 432x288 with 1 Axes>"
      ]
     },
     "metadata": {
      "needs_background": "light"
     }
    }
   ],
   "metadata": {}
  },
  {
   "cell_type": "code",
   "execution_count": 4,
   "source": [
    "# Show progress of the study\n",
    "def get_progress_dict():\n",
    "    steps = [0, 10, 20, 30, 40, 50, 60, 70, 80, 90, 100]\n",
    "    progress = dict((key, 0) for key in steps)   \n",
    "    for student in students:\n",
    "        p = student.get_progression()\n",
    "        print(p)\n",
    "        progress[p] += 1\n",
    "    return progress\n",
    "    \n",
    "progress = get_progress_dict()\n",
    "\n",
    "plot.bar(\n",
    "    progress.keys(),\n",
    "    height=progress.values(),\n",
    "    width=3.0,\n",
    "    align=\"center\"\n",
    ")\n",
    "plot.xticks(rotation=45, horizontalalignment=\"right\")\n"
   ],
   "outputs": [
    {
     "output_type": "stream",
     "name": "stdout",
     "text": [
      "20.0\n",
      "60.0\n",
      "20.0\n",
      "100.0\n",
      "20.0\n",
      "40.0\n",
      "40.0\n",
      "60.0\n",
      "80.0\n",
      "0.0\n"
     ]
    },
    {
     "output_type": "execute_result",
     "data": {
      "text/plain": [
       "(array([-20.,   0.,  20.,  40.,  60.,  80., 100., 120.]),\n",
       " <a list of 8 Text major ticklabel objects>)"
      ]
     },
     "metadata": {},
     "execution_count": 4
    },
    {
     "output_type": "display_data",
     "data": {
      "image/png": "[encoded data removed]",
      "text/plain": [
       "<Figure size 432x288 with 1 Axes>"
      ]
     },
     "metadata": {
      "needs_background": "light"
     }
    }
   ],
   "metadata": {}
  },
  {
   "cell_type": "markdown",
   "source": [
    "## 03 Solution part 2"
   ],
   "metadata": {}
  },
  {
   "cell_type": "code",
   "execution_count": 5,
   "source": [
    "from modules.week3.exceptions import get_students_closet_to_finish, create_csv_for_three_students\n",
    "from modules.week2.file_management import read_csv"
   ],
   "outputs": [],
   "metadata": {}
  },
  {
   "cell_type": "code",
   "execution_count": 6,
   "source": [
    "# 2.1\n",
    "# Function that can take a list of students and return the three closest to compleating\n",
    "print(get_students_closet_to_finish(students))"
   ],
   "outputs": [
    {
     "output_type": "stream",
     "name": "stdout",
     "text": [
      "[name: Hans, img_url: https://student-image.com/hans, average grade: 5.6 progression: 100.0\n",
      ", name: Tobias, img_url: https://student-image.com/tobias, average grade: 7.0 progression: 80.0\n",
      ", name: Alice, img_url: https://student-image.com/alice, average grade: 4.666666666666667 progression: 60.0\n",
      "]\n"
     ]
    }
   ],
   "metadata": {}
  },
  {
   "cell_type": "code",
   "execution_count": 8,
   "source": [
    "# Function that can create csv with 3 closest\n",
    "create_csv_for_three_students(students)\n",
    "print(read_csv(\"files/closest_students.csv\"))"
   ],
   "outputs": [
    {
     "output_type": "stream",
     "name": "stdout",
     "text": [
      "['stud_name, course_name, teacher_name, gender, ects, classroom, grade, img_url\\n', 'Hans, Danish, Jens, MALE, ?, 102, 2, https://student-image.com/hans\\n', 'Hans, Math, Patrik, MALE, ?, 10, 0, https://student-image.com/hans\\n', 'Hans, English, Coleen, MALE, ?, 201, 12, https://student-image.com/hans\\n', 'Hans, CS, Thomas, MALE, ?, 105, 12, https://student-image.com/hans\\n', 'Hans, History, Jon, MALE, ?, 7, 2, https://student-image.com/hans\\n', 'Tobias, Danish, Jens, MALE, ?, 102, 2, https://student-image.com/tobias\\n', 'Tobias, CS, Thomas, MALE, ?, 105, 12, https://student-image.com/tobias\\n', 'Tobias, English, Coleen, MALE, ?, 201, 12, https://student-image.com/tobias\\n', 'Tobias, History, Jon, MALE, ?, 7, 2, https://student-image.com/tobias\\n', 'Alice, CS, Thomas, FEMALE, ?, 105, 12, https://student-image.com/alice\\n', 'Alice, Math, Patrik, FEMALE, ?, 10, 0, https://student-image.com/alice\\n', 'Alice, History, Jon, FEMALE, ?, 7, 2, https://student-image.com/alice\\n']\n"
     ]
    }
   ],
   "metadata": {}
  }
 ],
 "metadata": {
  "kernelspec": {
   "name": "python3",
   "display_name": "Python 3.7.6 64-bit ('base': conda)"
  },
  "language_info": {
   "codemirror_mode": {
    "name": "ipython",
    "version": 3
   },
   "file_extension": ".py",
   "mimetype": "text/x-python",
   "name": "python",
   "nbconvert_exporter": "python",
   "pygments_lexer": "ipython3",
   "version": "3.7.6"
  },
  "interpreter": {
   "hash": "98b0a9b7b4eaaa670588a142fd0a9b87eaafe866f1db4228be72b4211d12040f"
  }
 },
 "nbformat": 4,
 "nbformat_minor": 4
}