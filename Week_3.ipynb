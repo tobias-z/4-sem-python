{
 "cells": [
  {
   "cell_type": "markdown",
   "source": [
    "# Week 3 handin"
   ],
   "metadata": {}
  },
  {
   "cell_type": "markdown",
   "source": [
    "## 01 Assignment\n",
    "Here is the text for the assignment linked to"
   ],
   "metadata": {}
  },
  {
   "cell_type": "markdown",
   "source": [
    "## 02 Status\n",
    "Here is a status on the handin. How far you got. What is implemented and what is not"
   ],
   "metadata": {}
  },
  {
   "cell_type": "markdown",
   "source": [
    "## 03 Solution part 1"
   ],
   "metadata": {}
  },
  {
   "cell_type": "code",
   "execution_count": 24,
   "source": [
    "# 1.0\n",
    "%matplotlib notebook\n",
    "%matplotlib inline\n",
    "from modules.week3.student_utils import read_students, create_students\n",
    "import matplotlib.pyplot as plot"
   ],
   "outputs": [],
   "metadata": {}
  },
  {
   "cell_type": "code",
   "execution_count": 25,
   "source": [
    "# Create students\n",
    "students = create_students(10)\n",
    "print(students)"
   ],
   "outputs": [
    {
     "output_type": "stream",
     "name": "stdout",
     "text": [
      "[name: Jens, img_url: https://student-image.com/jens, average grade: 5.0 progression: 100.0\n",
      ", name: Johan, img_url: https://student-image.com/johan, average grade: 3.75 progression: 80.0\n",
      ", name: Carl-Emil, img_url: https://student-image.com/carl-emil, average grade: 5.333333333333333 progression: 60.0\n",
      ", name: Alice, img_url: https://student-image.com/alice, average grade: 0.0 progression: 0.0\n",
      ", name: Tobias, img_url: https://student-image.com/tobias, average grade: 5.0 progression: 100.0\n",
      ", name: Amalie, img_url: https://student-image.com/amalie, average grade: 4.5 progression: 40.0\n",
      ", name: Someone, img_url: https://student-image.com/someone, average grade: 5.0 progression: 100.0\n",
      ", name: Bob, img_url: https://student-image.com/bob, average grade: 8.5 progression: 40.0\n",
      ", name: Hans, img_url: https://student-image.com/hans, average grade: 5.0 progression: 100.0\n",
      ", name: Jon, img_url: https://student-image.com/jon, average grade: 6.0 progression: 40.0\n",
      "]\n"
     ]
    }
   ],
   "metadata": {}
  },
  {
   "cell_type": "code",
   "execution_count": 26,
   "source": [
    "# read students from csv file\n",
    "all_students = read_students()\n",
    "\n",
    "# Create bar out of the students\n",
    "plot.bar(\n",
    "    [s.name for s in all_students],\n",
    "    height=[s.get_avg_grade() for s in all_students],\n",
    "    width=0.5,\n",
    "    align=\"center\"\n",
    ")\n",
    "plot.xticks(rotation=45, horizontalalignment=\"right\", fontweight=\"light\")"
   ],
   "outputs": [
    {
     "output_type": "stream",
     "name": "stdout",
     "text": [
      "['stud_name', ' course_name', ' teacher_name', ' gender', ' ects', ' classroom', ' grade', ' img_url']\n",
      "name: Jens, img_url:  https://student-image.com/jens, average grade: 8.2 progression: 0.0\n",
      "\n",
      "name: Johan, img_url:  https://student-image.com/johan, average grade: 3.25 progression: 0.0\n",
      "\n",
      "name: Carl-Emil, img_url:  https://student-image.com/carl-emil, average grade: 4.333333333333333 progression: 0.0\n",
      "\n",
      "name: Tobias, img_url:  https://student-image.com/tobias, average grade: 8.2 progression: 0.0\n",
      "\n",
      "name: Amalie, img_url:  https://student-image.com/amalie, average grade: 6.0 progression: 0.0\n",
      "\n",
      "name: Someone, img_url:  https://student-image.com/someone, average grade: 5.6 progression: 0.0\n",
      "\n",
      "name: Bob, img_url:  https://student-image.com/bob, average grade: 2.0 progression: 0.0\n",
      "\n",
      "name: Hans, img_url:  https://student-image.com/hans, average grade: 3.4 progression: 0.0\n",
      "\n"
     ]
    },
    {
     "output_type": "execute_result",
     "data": {
      "text/plain": [
       "([0, 1, 2, 3, 4, 5, 6, 7, 8], <a list of 9 Text major ticklabel objects>)"
      ]
     },
     "metadata": {},
     "execution_count": 26
    },
    {
     "output_type": "display_data",
     "data": {
      "image/png": "[encoded data removed]",
      "text/plain": [
       "<Figure size 432x288 with 1 Axes>"
      ]
     },
     "metadata": {
      "needs_background": "light"
     }
    }
   ],
   "metadata": {}
  },
  {
   "cell_type": "code",
   "execution_count": 27,
   "source": [
    "# Show progress of the study\n",
    "def get_progress_dict():\n",
    "    steps = [0, 10, 20, 30, 40, 50, 60, 70, 80, 90, 100]\n",
    "    progress = dict((key, 0) for key in steps)   \n",
    "    for student in students:\n",
    "        p = student.get_progression()\n",
    "        print(p)\n",
    "        progress[p] += 1\n",
    "    return progress\n",
    "    \n",
    "progress = get_progress_dict()\n",
    "\n",
    "plot.bar(\n",
    "    progress.keys(),\n",
    "    height=progress.values(),\n",
    "    width=3.0,\n",
    "    align=\"center\"\n",
    ")\n",
    "plot.xticks(rotation=45, horizontalalignment=\"right\")\n"
   ],
   "outputs": [
    {
     "output_type": "stream",
     "name": "stdout",
     "text": [
      "100.0\n",
      "80.0\n",
      "60.0\n",
      "0.0\n",
      "100.0\n",
      "40.0\n",
      "100.0\n",
      "40.0\n",
      "100.0\n",
      "40.0\n"
     ]
    },
    {
     "output_type": "execute_result",
     "data": {
      "text/plain": [
       "(array([-20.,   0.,  20.,  40.,  60.,  80., 100., 120.]),\n",
       " <a list of 8 Text major ticklabel objects>)"
      ]
     },
     "metadata": {},
     "execution_count": 27
    },
    {
     "output_type": "display_data",
     "data": {
      "image/png": "[encoded data removed]",
      "text/plain": [
       "<Figure size 432x288 with 1 Axes>"
      ]
     },
     "metadata": {
      "needs_background": "light"
     }
    }
   ],
   "metadata": {}
  },
  {
   "cell_type": "markdown",
   "source": [
    "## 03 Solution part 2"
   ],
   "metadata": {}
  },
  {
   "cell_type": "code",
   "execution_count": 28,
   "source": [
    "from modules.week3.exceptions import get_students_closet_to_finish, create_csv_for_three_students\n",
    "from modules.week2.file_management import read_csv"
   ],
   "outputs": [],
   "metadata": {}
  },
  {
   "cell_type": "code",
   "execution_count": 29,
   "source": [
    "# 2.1\n",
    "# Function that can take a list of students and return the three closest to compleating\n",
    "print(get_students_closet_to_finish(students))"
   ],
   "outputs": [
    {
     "output_type": "stream",
     "name": "stdout",
     "text": [
      "[name: Jens, img_url: https://student-image.com/jens, average grade: 5.0 progression: 100.0\n",
      ", name: Tobias, img_url: https://student-image.com/tobias, average grade: 5.0 progression: 100.0\n",
      ", name: Someone, img_url: https://student-image.com/someone, average grade: 5.0 progression: 100.0\n",
      "]\n"
     ]
    }
   ],
   "metadata": {}
  },
  {
   "cell_type": "code",
   "execution_count": 30,
   "source": [
    "# Function that can create csv with 3 closest\n",
    "create_csv_for_three_students(students)\n",
    "print(read_csv(\"files/closest_students.csv\"))"
   ],
   "outputs": [
    {
     "output_type": "stream",
     "name": "stdout",
     "text": [
      "['stud_name, course_name, teacher_name, gender, ects, classroom, grade, img_url\\n', 'Jens, CS, Thomas, MALE, ?, 105, 10, https://student-image.com/jens\\n', 'Jens, English, Coleen, MALE, ?, 201, 4, https://student-image.com/jens\\n', 'Jens, History, Jon, MALE, ?, 7, 2, https://student-image.com/jens\\n', 'Jens, Math, Patrik, MALE, ?, 10, 2, https://student-image.com/jens\\n', 'Jens, Danish, Jens, MALE, ?, 102, 7, https://student-image.com/jens\\n', 'Tobias, English, Coleen, MALE, ?, 201, 4, https://student-image.com/tobias\\n', 'Tobias, Danish, Jens, MALE, ?, 102, 7, https://student-image.com/tobias\\n', 'Tobias, History, Jon, MALE, ?, 7, 2, https://student-image.com/tobias\\n', 'Tobias, CS, Thomas, MALE, ?, 105, 10, https://student-image.com/tobias\\n', 'Tobias, Math, Patrik, MALE, ?, 10, 2, https://student-image.com/tobias\\n', 'Someone, History, Jon, FEMALE, ?, 7, 2, https://student-image.com/someone\\n', 'Someone, English, Coleen, FEMALE, ?, 201, 4, https://student-image.com/someone\\n', 'Someone, Danish, Jens, FEMALE, ?, 102, 7, https://student-image.com/someone\\n', 'Someone, Math, Patrik, FEMALE, ?, 10, 2, https://student-image.com/someone\\n', 'Someone, CS, Thomas, FEMALE, ?, 105, 10, https://student-image.com/someone\\n']\n"
     ]
    }
   ],
   "metadata": {}
  },
  {
   "cell_type": "markdown",
   "source": [
    "## 03 Solutions part 3\n",
    "## Plotting"
   ],
   "metadata": {}
  },
  {
   "cell_type": "code",
   "execution_count": 31,
   "source": [
    "from modules.week3.student import Student, Gender\n",
    "from modules.week3.course import Course\n",
    "from typing import List, Dict"
   ],
   "outputs": [],
   "metadata": {}
  },
  {
   "cell_type": "code",
   "execution_count": 32,
   "source": [
    "# 3.0\n",
    "def create_pie_chart_from_students(students: List[Student]):\n",
    "    _, ax1 = plot.subplots()\n",
    "    values = dict((s.name, s.get_progression()) for s in students)\n",
    "    ax1.pie(list(values.values()), labels=list(values.keys()), shadow=True,\n",
    "        autopct=lambda s: f\"{round(s, 2)}%\"\n",
    "    )\n",
    "    plot.autoscale(True)\n",
    "    plot.title(\"Student progression\")\n",
    "    plot.show()\n",
    "\n",
    "create_pie_chart_from_students(students)\n"
   ],
   "outputs": [
    {
     "output_type": "display_data",
     "data": {
      "image/png": "[encoded data removed]",
      "text/plain": [
       "<Figure size 432x288 with 1 Axes>"
      ]
     },
     "metadata": {}
    }
   ],
   "metadata": {}
  },
  {
   "cell_type": "code",
   "execution_count": 33,
   "source": [
    "# 3.1 Function can take a list of students and show amount of students on each course\n",
    "\n",
    "def get_student_dict(students: List[Student]) -> Dict[str, List[Course]]:\n",
    "    courses = dict()\n",
    "    for student in students:\n",
    "        for course in student.get_courses():\n",
    "            courses.setdefault(course.name, list())\n",
    "            courses[course.name].append(course)\n",
    "    return courses\n",
    "\n",
    "def how_many_students(students: List[Student]):\n",
    "    courses = get_student_dict(students)\n",
    "    plot.bar(\n",
    "        list(courses.keys()),\n",
    "        height=[len(course_list) for course_list in courses.values()],\n",
    "        width=0.5,\n",
    "        align=\"center\"\n",
    "    )\n",
    "    plot.xticks(rotation=45, horizontalalignment=\"right\", fontweight=\"light\")\n",
    "    \n",
    "\n",
    "how_many_students(students)"
   ],
   "outputs": [
    {
     "output_type": "display_data",
     "data": {
      "image/png": "[encoded data removed]",
      "text/plain": [
       "<Figure size 432x288 with 1 Axes>"
      ]
     },
     "metadata": {
      "needs_background": "light"
     }
    }
   ],
   "metadata": {}
  },
  {
   "cell_type": "code",
   "execution_count": 44,
   "source": [
    "# Make the figure show males and females in different colors\n",
    "\n",
    "def get_student_dict_in_colors(students: List[Student]):\n",
    "    courses: Dict[str, Dict[Gender, List[Course]]] = dict()\n",
    "    for student in students:\n",
    "        for course in student.get_courses():\n",
    "            courses.setdefault(course.name, {Gender.FEMALE: list(), Gender.MALE: list()})\n",
    "            courses[course.name][student.gender].append(course)\n",
    "    return courses\n",
    "\n",
    "def get_plot(keys, values, alpha):\n",
    "    p = plot.bar(\n",
    "        keys,\n",
    "        height=values,\n",
    "        width=0.5,\n",
    "        align=\"center\",\n",
    "        alpha=alpha\n",
    "    )\n",
    "    plot.title(\"Students in course\")\n",
    "    plot.tick_params(axis=\"both\", which=\"major\", labelsize=10)\n",
    "    return p\n",
    "\n",
    "def get_y_values(courses, gender):\n",
    "    return [len(course_list[gender]) for course_list in courses.values()]\n",
    "\n",
    "def how_many_students_in_colors(students: List[Student]):\n",
    "    courses = get_student_dict_in_colors(students)\n",
    "    keys = list(courses.keys())\n",
    "    females = get_plot(keys, get_y_values(courses, Gender.FEMALE), 0.8)\n",
    "    males = get_plot(keys, get_y_values(courses, Gender.MALE), 0.4)\n",
    "    plot.legend([females, males], [\"Female\", \"Male\"], loc=1)\n",
    "\n",
    "how_many_students_in_colors(students)"
   ],
   "outputs": [
    {
     "output_type": "error",
     "ename": "TypeError",
     "evalue": "get_plot() missing 1 required positional argument: 'alpha'",
     "traceback": [
      "\u001b[0;31m---------------------------------------------------------------------------\u001b[0m",
      "\u001b[0;31mTypeError\u001b[0m                                 Traceback (most recent call last)",
      "\u001b[0;32m<ipython-input-44-eab601fe70e3>\u001b[0m in \u001b[0;36m<module>\u001b[0;34m\u001b[0m\n\u001b[1;32m     31\u001b[0m     \u001b[0mplot\u001b[0m\u001b[0;34m.\u001b[0m\u001b[0mlegend\u001b[0m\u001b[0;34m(\u001b[0m\u001b[0;34m[\u001b[0m\u001b[0mfemales\u001b[0m\u001b[0;34m,\u001b[0m \u001b[0mmales\u001b[0m\u001b[0;34m]\u001b[0m\u001b[0;34m,\u001b[0m \u001b[0;34m[\u001b[0m\u001b[0;34m\"Female\"\u001b[0m\u001b[0;34m,\u001b[0m \u001b[0;34m\"Male\"\u001b[0m\u001b[0;34m]\u001b[0m\u001b[0;34m,\u001b[0m \u001b[0mloc\u001b[0m\u001b[0;34m=\u001b[0m\u001b[0;36m1\u001b[0m\u001b[0;34m)\u001b[0m\u001b[0;34m\u001b[0m\u001b[0;34m\u001b[0m\u001b[0m\n\u001b[1;32m     32\u001b[0m \u001b[0;34m\u001b[0m\u001b[0m\n\u001b[0;32m---> 33\u001b[0;31m \u001b[0mhow_many_students_in_colors\u001b[0m\u001b[0;34m(\u001b[0m\u001b[0mstudents\u001b[0m\u001b[0;34m)\u001b[0m\u001b[0;34m\u001b[0m\u001b[0;34m\u001b[0m\u001b[0m\n\u001b[0m",
      "\u001b[0;32m<ipython-input-44-eab601fe70e3>\u001b[0m in \u001b[0;36mhow_many_students_in_colors\u001b[0;34m(students)\u001b[0m\n\u001b[1;32m     27\u001b[0m     \u001b[0mcourses\u001b[0m \u001b[0;34m=\u001b[0m \u001b[0mget_student_dict_in_colors\u001b[0m\u001b[0;34m(\u001b[0m\u001b[0mstudents\u001b[0m\u001b[0;34m)\u001b[0m\u001b[0;34m\u001b[0m\u001b[0;34m\u001b[0m\u001b[0m\n\u001b[1;32m     28\u001b[0m     \u001b[0mkeys\u001b[0m \u001b[0;34m=\u001b[0m \u001b[0mlist\u001b[0m\u001b[0;34m(\u001b[0m\u001b[0mcourses\u001b[0m\u001b[0;34m.\u001b[0m\u001b[0mkeys\u001b[0m\u001b[0;34m(\u001b[0m\u001b[0;34m)\u001b[0m\u001b[0;34m)\u001b[0m\u001b[0;34m\u001b[0m\u001b[0;34m\u001b[0m\u001b[0m\n\u001b[0;32m---> 29\u001b[0;31m     \u001b[0mfemales\u001b[0m \u001b[0;34m=\u001b[0m \u001b[0mget_plot\u001b[0m\u001b[0;34m(\u001b[0m\u001b[0mkeys\u001b[0m\u001b[0;34m,\u001b[0m \u001b[0mget_y_values\u001b[0m\u001b[0;34m(\u001b[0m\u001b[0mcourses\u001b[0m\u001b[0;34m,\u001b[0m \u001b[0mGender\u001b[0m\u001b[0;34m.\u001b[0m\u001b[0mFEMALE\u001b[0m\u001b[0;34m)\u001b[0m\u001b[0;34m)\u001b[0m\u001b[0;34m\u001b[0m\u001b[0;34m\u001b[0m\u001b[0m\n\u001b[0m\u001b[1;32m     30\u001b[0m     \u001b[0mmales\u001b[0m \u001b[0;34m=\u001b[0m \u001b[0mget_plot\u001b[0m\u001b[0;34m(\u001b[0m\u001b[0mkeys\u001b[0m\u001b[0;34m,\u001b[0m \u001b[0mget_y_values\u001b[0m\u001b[0;34m(\u001b[0m\u001b[0mcourses\u001b[0m\u001b[0;34m,\u001b[0m \u001b[0mGender\u001b[0m\u001b[0;34m.\u001b[0m\u001b[0mMALE\u001b[0m\u001b[0;34m)\u001b[0m\u001b[0;34m)\u001b[0m\u001b[0;34m\u001b[0m\u001b[0;34m\u001b[0m\u001b[0m\n\u001b[1;32m     31\u001b[0m     \u001b[0mplot\u001b[0m\u001b[0;34m.\u001b[0m\u001b[0mlegend\u001b[0m\u001b[0;34m(\u001b[0m\u001b[0;34m[\u001b[0m\u001b[0mfemales\u001b[0m\u001b[0;34m,\u001b[0m \u001b[0mmales\u001b[0m\u001b[0;34m]\u001b[0m\u001b[0;34m,\u001b[0m \u001b[0;34m[\u001b[0m\u001b[0;34m\"Female\"\u001b[0m\u001b[0;34m,\u001b[0m \u001b[0;34m\"Male\"\u001b[0m\u001b[0;34m]\u001b[0m\u001b[0;34m,\u001b[0m \u001b[0mloc\u001b[0m\u001b[0;34m=\u001b[0m\u001b[0;36m1\u001b[0m\u001b[0;34m)\u001b[0m\u001b[0;34m\u001b[0m\u001b[0;34m\u001b[0m\u001b[0m\n",
      "\u001b[0;31mTypeError\u001b[0m: get_plot() missing 1 required positional argument: 'alpha'"
     ]
    }
   ],
   "metadata": {}
  }
 ],
 "metadata": {
  "kernelspec": {
   "name": "python3",
   "display_name": "Python 3.7.6 64-bit ('base': conda)"
  },
  "language_info": {
   "codemirror_mode": {
    "name": "ipython",
    "version": 3
   },
   "file_extension": ".py",
   "mimetype": "text/x-python",
   "name": "python",
   "nbconvert_exporter": "python",
   "pygments_lexer": "ipython3",
   "version": "3.7.6"
  },
  "interpreter": {
   "hash": "98b0a9b7b4eaaa670588a142fd0a9b87eaafe866f1db4228be72b4211d12040f"
  }
 },
 "nbformat": 4,
 "nbformat_minor": 4
}