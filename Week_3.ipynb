{
 "cells": [
  {
   "cell_type": "markdown",
   "source": [
    "# Week 3 handin"
   ],
   "metadata": {}
  },
  {
   "cell_type": "markdown",
   "source": [
    "# Exercise for the 3rd course week\n",
    "\n",
    "## Ex 1 Classes\n",
    "1. Create 3 classes: Student, DataSheet and Course\n",
    "2. A student has a data_sheet and a data_sheet has multiple courses in particular order\n",
    "3. Each course has name, classroom, teacher, ETCS and optional grade if course is taken.\n",
    "4. In Student create __init__() so that a Student can be initiated with name, gender, data_sheet and image_url\n",
    "5. In DataSheet create a method to get_grades_as_list()\n",
    "6. In student create a method: get_avg_grade()\n",
    "7. Create a function that can generate n number of students with random: name, gender, courses (from a fixed list of course names), grades, img_url\n",
    "   1. Let the function write the result to a csv file with format stud_name, course_name, teacher, ,gender, ects, classroom, grade, img_url\n",
    "7. Read student data into a list of Students from a csv file (Each student can appear on multiple lines): \n",
    "   1. loop through the list and print each student with name, img_url and avg_grade.\n",
    "   2. sort the list by avg_grade\n",
    "   3. create a bar chart with student_name on x and avg_grade on y-axis\n",
    "8. Make a method on Student class that can show progression of the study in % (add up ECTS from all passed courses divided by total of 150 total points (equivalent to 5 semesters))\n",
    "9. Show a bar chart of distribution of study progression on x-axis and number of students in each category on y-axis. (e.g. make 10 categories from 0-100%)\n",
    "\n",
    "Extra: Make the Datasheet class iterable so that next(data_sheet) will return the next course in the list\n",
    "\n",
    "## Ex 2 Exceptions (extra)\n",
    "1. Create a function that can take a list of students and return the 3 students closest to completing their study.\n",
    "2. If list is shorter than 3 raise your own custom exception (NotEnoughStudentsException)\n",
    "3. Create another function that can create a csv file with 3 students closest to completion\n",
    "   1. If an exception is raised write an appropriate message to the file\n",
    "\n",
    "## Ex 3 Plotting (extra)\n",
    "1. Create a function that can take a list of students and show a pie chart of how students are distributed in ECTS percentage categories (10%, 20%, ...)\n",
    "2. create a function that can take a list of students and show how many students have taken each course (bar chart)\n",
    "   1. create a method on student that can return a list of courses\n",
    "3. make the figure show males and females in different colors for each course (display 2 datasets in same figure)"
   ],
   "metadata": {}
  },
  {
   "cell_type": "markdown",
   "source": [
    "## 02 Status\n",
    "I finished all of given tasks"
   ],
   "metadata": {}
  },
  {
   "cell_type": "markdown",
   "source": [
    "## 03 Solution part 1"
   ],
   "metadata": {}
  },
  {
   "cell_type": "code",
   "execution_count": 46,
   "source": [
    "# 1.0\n",
    "%matplotlib notebook\n",
    "%matplotlib inline\n",
    "from modules.week3.student_utils import read_students, create_students\n",
    "import matplotlib.pyplot as plot"
   ],
   "outputs": [],
   "metadata": {}
  },
  {
   "cell_type": "code",
   "execution_count": 47,
   "source": [
    "# Create students\n",
    "students = create_students(10)\n",
    "print(students)"
   ],
   "outputs": [
    {
     "output_type": "stream",
     "name": "stdout",
     "text": [
      "[name: Carl-Emil, img_url: https://student-image.com/carl-emil, average grade: 8.25 progression: 80.0\n",
      ", name: Bob, img_url: https://student-image.com/bob, average grade: 9.75 progression: 80.0\n",
      ", name: Tobias, img_url: https://student-image.com/tobias, average grade: 11.0 progression: 40.0\n",
      ", name: Amalie, img_url: https://student-image.com/amalie, average grade: 7.0 progression: 20.0\n",
      ", name: Jens, img_url: https://student-image.com/jens, average grade: 9.666666666666666 progression: 60.0\n",
      ", name: Alice, img_url: https://student-image.com/alice, average grade: 8.25 progression: 80.0\n",
      ", name: Someone, img_url: https://student-image.com/someone, average grade: 8.0 progression: 60.0\n",
      ", name: Hans, img_url: https://student-image.com/hans, average grade: 8.6 progression: 100.0\n",
      ", name: Jon, img_url: https://student-image.com/jon, average grade: 8.6 progression: 100.0\n",
      ", name: Johan, img_url: https://student-image.com/johan, average grade: 8.6 progression: 100.0\n",
      "]\n"
     ]
    }
   ],
   "metadata": {}
  },
  {
   "cell_type": "code",
   "execution_count": 48,
   "source": [
    "# read students from csv file\n",
    "all_students = read_students()\n",
    "\n",
    "# Create bar out of the students\n",
    "plot.bar(\n",
    "    [s.name for s in all_students],\n",
    "    height=[s.get_avg_grade() for s in all_students],\n",
    "    width=0.5,\n",
    "    align=\"center\"\n",
    ")\n",
    "plot.xticks(rotation=45, horizontalalignment=\"right\", fontweight=\"light\")"
   ],
   "outputs": [
    {
     "output_type": "stream",
     "name": "stdout",
     "text": [
      "['stud_name', ' course_name', ' teacher_name', ' gender', ' ects', ' classroom', ' grade', ' img_url']\n",
      "name: Carl-Emil, img_url:  https://student-image.com/carl-emil, average grade: 7.5 progression: 0.0\n",
      "\n",
      "name: Bob, img_url:  https://student-image.com/bob, average grade: 5.25 progression: 0.0\n",
      "\n",
      "name: Tobias, img_url:  https://student-image.com/tobias, average grade: 4.5 progression: 0.0\n",
      "\n",
      "name: Amalie, img_url:  https://student-image.com/amalie, average grade: 10.0 progression: 0.0\n",
      "\n",
      "name: Jens, img_url:  https://student-image.com/jens, average grade: 3.6666666666666665 progression: 0.0\n",
      "\n",
      "name: Alice, img_url:  https://student-image.com/alice, average grade: 5.25 progression: 0.0\n",
      "\n",
      "name: Someone, img_url:  https://student-image.com/someone, average grade: 4.0 progression: 0.0\n",
      "\n",
      "name: Hans, img_url:  https://student-image.com/hans, average grade: 6.8 progression: 0.0\n",
      "\n",
      "name: Jon, img_url:  https://student-image.com/jon, average grade: 7.2 progression: 0.0\n",
      "\n"
     ]
    },
    {
     "output_type": "execute_result",
     "data": {
      "text/plain": [
       "([0, 1, 2, 3, 4, 5, 6, 7, 8, 9], <a list of 10 Text major ticklabel objects>)"
      ]
     },
     "metadata": {},
     "execution_count": 48
    },
    {
     "output_type": "display_data",
     "data": {
      "image/png": "[encoded data removed]",
      "text/plain": [
       "<Figure size 432x288 with 1 Axes>"
      ]
     },
     "metadata": {
      "needs_background": "light"
     }
    }
   ],
   "metadata": {}
  },
  {
   "cell_type": "code",
   "execution_count": 49,
   "source": [
    "# Show progress of the study\n",
    "def get_progress_dict():\n",
    "    steps = [0, 10, 20, 30, 40, 50, 60, 70, 80, 90, 100]\n",
    "    progress = dict((key, 0) for key in steps)   \n",
    "    for student in students:\n",
    "        p = student.get_progression()\n",
    "        print(p)\n",
    "        progress[p] += 1\n",
    "    return progress\n",
    "    \n",
    "progress = get_progress_dict()\n",
    "\n",
    "plot.bar(\n",
    "    progress.keys(),\n",
    "    height=progress.values(),\n",
    "    width=3.0,\n",
    "    align=\"center\"\n",
    ")\n",
    "plot.xticks(rotation=45, horizontalalignment=\"right\")\n"
   ],
   "outputs": [
    {
     "output_type": "stream",
     "name": "stdout",
     "text": [
      "80.0\n",
      "80.0\n",
      "40.0\n",
      "20.0\n",
      "60.0\n",
      "80.0\n",
      "60.0\n",
      "100.0\n",
      "100.0\n",
      "100.0\n"
     ]
    },
    {
     "output_type": "execute_result",
     "data": {
      "text/plain": [
       "(array([-20.,   0.,  20.,  40.,  60.,  80., 100., 120.]),\n",
       " <a list of 8 Text major ticklabel objects>)"
      ]
     },
     "metadata": {},
     "execution_count": 49
    },
    {
     "output_type": "display_data",
     "data": {
      "image/png": "[encoded data removed]",
      "text/plain": [
       "<Figure size 432x288 with 1 Axes>"
      ]
     },
     "metadata": {
      "needs_background": "light"
     }
    }
   ],
   "metadata": {}
  },
  {
   "cell_type": "markdown",
   "source": [
    "## 03 Solution part 2"
   ],
   "metadata": {}
  },
  {
   "cell_type": "code",
   "execution_count": 50,
   "source": [
    "from modules.week3.exceptions import get_students_closet_to_finish, create_csv_for_three_students\n",
    "from modules.week2.file_management import read_csv"
   ],
   "outputs": [],
   "metadata": {}
  },
  {
   "cell_type": "code",
   "execution_count": 51,
   "source": [
    "# 2.1\n",
    "# Function that can take a list of students and return the three closest to compleating\n",
    "print(get_students_closet_to_finish(students))"
   ],
   "outputs": [
    {
     "output_type": "stream",
     "name": "stdout",
     "text": [
      "[name: Hans, img_url: https://student-image.com/hans, average grade: 8.6 progression: 100.0\n",
      ", name: Jon, img_url: https://student-image.com/jon, average grade: 8.6 progression: 100.0\n",
      ", name: Johan, img_url: https://student-image.com/johan, average grade: 8.6 progression: 100.0\n",
      "]\n"
     ]
    }
   ],
   "metadata": {}
  },
  {
   "cell_type": "code",
   "execution_count": 52,
   "source": [
    "# Function that can create csv with 3 closest\n",
    "create_csv_for_three_students(students)\n",
    "print(read_csv(\"files/closest_students.csv\"))"
   ],
   "outputs": [
    {
     "output_type": "stream",
     "name": "stdout",
     "text": [
      "['stud_name, course_name, teacher_name, gender, ects, classroom, grade, img_url\\n', 'Hans, Math, Patrik, MALE, ?, 10, 4, https://student-image.com/hans\\n', 'Hans, Danish, Jens, MALE, ?, 102, 12, https://student-image.com/hans\\n', 'Hans, English, Coleen, MALE, ?, 201, 7, https://student-image.com/hans\\n', 'Hans, History, Jon, MALE, ?, 7, 10, https://student-image.com/hans\\n', 'Hans, CS, Thomas, MALE, ?, 105, 10, https://student-image.com/hans\\n', 'Jon, Danish, Jens, MALE, ?, 102, 12, https://student-image.com/jon\\n', 'Jon, CS, Thomas, MALE, ?, 105, 10, https://student-image.com/jon\\n', 'Jon, Math, Patrik, MALE, ?, 10, 4, https://student-image.com/jon\\n', 'Jon, English, Coleen, MALE, ?, 201, 7, https://student-image.com/jon\\n', 'Jon, History, Jon, MALE, ?, 7, 10, https://student-image.com/jon\\n', 'Johan, Danish, Jens, MALE, ?, 102, 12, https://student-image.com/johan\\n', 'Johan, CS, Thomas, MALE, ?, 105, 10, https://student-image.com/johan\\n', 'Johan, English, Coleen, MALE, ?, 201, 7, https://student-image.com/johan\\n', 'Johan, Math, Patrik, MALE, ?, 10, 4, https://student-image.com/johan\\n', 'Johan, History, Jon, MALE, ?, 7, 10, https://student-image.com/johan\\n']\n"
     ]
    }
   ],
   "metadata": {}
  },
  {
   "cell_type": "markdown",
   "source": [
    "## 03 Solutions part 3\n",
    "## Plotting"
   ],
   "metadata": {}
  },
  {
   "cell_type": "code",
   "execution_count": 53,
   "source": [
    "from modules.week3.student import Student, Gender\n",
    "from modules.week3.course import Course\n",
    "from typing import List, Dict"
   ],
   "outputs": [],
   "metadata": {}
  },
  {
   "cell_type": "code",
   "execution_count": 54,
   "source": [
    "# 3.0\n",
    "def create_pie_chart_from_students(students: List[Student]):\n",
    "    _, ax1 = plot.subplots()\n",
    "    values = dict((s.name, s.get_progression()) for s in students)\n",
    "    ax1.pie(list(values.values()), labels=list(values.keys()), shadow=True,\n",
    "        autopct=lambda s: f\"{round(s, 2)}%\"\n",
    "    )\n",
    "    plot.autoscale(True)\n",
    "    plot.title(\"Student progression\")\n",
    "    plot.show()\n",
    "\n",
    "create_pie_chart_from_students(students)\n"
   ],
   "outputs": [
    {
     "output_type": "display_data",
     "data": {
      "image/png": "[encoded data removed]",
      "text/plain": [
       "<Figure size 432x288 with 1 Axes>"
      ]
     },
     "metadata": {}
    }
   ],
   "metadata": {}
  },
  {
   "cell_type": "code",
   "execution_count": 55,
   "source": [
    "# 3.1 Function can take a list of students and show amount of students on each course\n",
    "\n",
    "def get_student_dict(students: List[Student]) -> Dict[str, List[Course]]:\n",
    "    courses = dict()\n",
    "    for student in students:\n",
    "        for course in student.get_courses():\n",
    "            courses.setdefault(course.name, list())\n",
    "            courses[course.name].append(course)\n",
    "    return courses\n",
    "\n",
    "def how_many_students(students: List[Student]):\n",
    "    courses = get_student_dict(students)\n",
    "    plot.bar(\n",
    "        list(courses.keys()),\n",
    "        height=[len(course_list) for course_list in courses.values()],\n",
    "        width=0.5,\n",
    "        align=\"center\"\n",
    "    )\n",
    "    plot.xticks(rotation=45, horizontalalignment=\"right\", fontweight=\"light\")\n",
    "    \n",
    "\n",
    "how_many_students(students)"
   ],
   "outputs": [
    {
     "output_type": "display_data",
     "data": {
      "image/png": "[encoded data removed]",
      "text/plain": [
       "<Figure size 432x288 with 1 Axes>"
      ]
     },
     "metadata": {
      "needs_background": "light"
     }
    }
   ],
   "metadata": {}
  },
  {
   "cell_type": "code",
   "execution_count": 56,
   "source": [
    "# Make the figure show males and females in different colors\n",
    "\n",
    "def get_student_dict_in_colors(students: List[Student]):\n",
    "    courses: Dict[str, Dict[Gender, List[Course]]] = dict()\n",
    "    for student in students:\n",
    "        for course in student.get_courses():\n",
    "            courses.setdefault(course.name, {Gender.FEMALE: list(), Gender.MALE: list()})\n",
    "            courses[course.name][student.gender].append(course)\n",
    "    return courses\n",
    "\n",
    "def get_plot(keys, values, alpha):\n",
    "    p = plot.bar(\n",
    "        keys,\n",
    "        height=values,\n",
    "        width=0.5,\n",
    "        align=\"center\",\n",
    "        alpha=alpha\n",
    "    )\n",
    "    plot.title(\"Students in course\")\n",
    "    plot.tick_params(axis=\"both\", which=\"major\", labelsize=10)\n",
    "    return p\n",
    "\n",
    "def get_y_values(courses, gender):\n",
    "    return [len(course_list[gender]) for course_list in courses.values()]\n",
    "\n",
    "def how_many_students_in_colors(students: List[Student]):\n",
    "    courses = get_student_dict_in_colors(students)\n",
    "    keys = list(courses.keys())\n",
    "    females = get_plot(keys, get_y_values(courses, Gender.FEMALE), 0.8)\n",
    "    males = get_plot(keys, get_y_values(courses, Gender.MALE), 0.4)\n",
    "    plot.legend([females, males], [\"Female\", \"Male\"], loc=1)\n",
    "\n",
    "how_many_students_in_colors(students)"
   ],
   "outputs": [
    {
     "output_type": "display_data",
     "data": {
      "image/png": "[encoded data removed]",
      "text/plain": [
       "<Figure size 432x288 with 1 Axes>"
      ]
     },
     "metadata": {
      "needs_background": "light"
     }
    }
   ],
   "metadata": {}
  }
 ],
 "metadata": {
  "kernelspec": {
   "name": "python3",
   "display_name": "Python 3.7.6 64-bit ('base': conda)"
  },
  "language_info": {
   "codemirror_mode": {
    "name": "ipython",
    "version": 3
   },
   "file_extension": ".py",
   "mimetype": "text/x-python",
   "name": "python",
   "nbconvert_exporter": "python",
   "pygments_lexer": "ipython3",
   "version": "3.7.6"
  },
  "interpreter": {
   "hash": "98b0a9b7b4eaaa670588a142fd0a9b87eaafe866f1db4228be72b4211d12040f"
  }
 },
 "nbformat": 4,
 "nbformat_minor": 4
}