{
 "cells": [
  {
   "cell_type": "markdown",
   "source": [
    "# Week 3 handin"
   ],
   "metadata": {}
  },
  {
   "cell_type": "markdown",
   "source": [
    "## 01 Assignment\n",
    "Here is the text for the assignment linked to"
   ],
   "metadata": {}
  },
  {
   "cell_type": "markdown",
   "source": [
    "## 02 Status\n",
    "Here is a status on the handin. How far you got. What is implemented and what is not"
   ],
   "metadata": {}
  },
  {
   "cell_type": "markdown",
   "source": [
    "## 03 Solution part 1"
   ],
   "metadata": {}
  },
  {
   "cell_type": "markdown",
   "source": [
    "## Ex1 Use data from Danmarks Statistik - Databanken\n",
    "1. Go to https://www.dst.dk/da/Statistik/brug-statistikken/muligheder-i-statistikbanken/api#testkonsol\n",
    "2. Open 'Konsol' and click 'Start Konsol'\n",
    "3. In the console at pt 1: choose 'Retrieve tables', pt 2: choose get request and json format and pt 3: execute:\n",
    "  1. check the result\n",
    "  2. in the code below this same get request is used to get information about all available data tables in 'databanken'. \n",
    "4. Change pt. 1 in the console to 'Retrieve data', pt 2: 'get request' and Table id: 'FOLK1A', format: csv, delimiter: semicolon and click: 'Variable and value codes' and choose some sub categories (Hint: hover over the codes to see their meaning). Finally execute and see what data you get.\n",
    "5. With data aggregation and data visualization answer the following questions:\n",
    "  1. What is the change in pct of divorced danes from 2008 to 2020?\n",
    "  2. Which of the 5 biggest cities has the highest percentage of 'Never Married' in 2020?\n",
    "  3. Show a bar chart of changes in marrital status in Copenhagen from 2008 till now\n",
    "  4. Show 2 plots in same figure: 'Married' and 'Never Married' for all ages in DK in 2020 (Hint: x axis is age from 0-125, y axis is how many people in the 2 categories). Add lengend to show names on graphs\n",
    "  \n",
    "## Ex2 Use another table (extra)\n",
    "Choose any of the other tables in 'databanken' to find interesting data.\n",
    "1. Collect the data\n",
    "2. Pose 5 or more interesing questions to the data\n",
    "3. Answer the questions by aggregating the data\n",
    "4. Illustrate the answers with visual plots"
   ],
   "metadata": {}
  },
  {
   "cell_type": "code",
   "execution_count": 2,
   "source": [
    "import pandas as pd"
   ],
   "outputs": [],
   "metadata": {}
  },
  {
   "cell_type": "code",
   "execution_count": 3,
   "source": [
    "# 8. Change in pct of divorced danes from 2008 to 2020\n",
    "url = \"https://api.statbank.dk/v1/data/FOLK1A/CSV?delimiter=Semicolon&CIVILSTAND=F&Tid=*\"\n",
    "divorced = pd.read_csv(url, sep=\";\", encoding=\"utf-8\")\n",
    "\n",
    "def get_percent():\n",
    "    first = divorced.iloc[0, 2]\n",
    "    last = divorced.iloc[-1, 2]\n",
    "    return (last - first) / first * 100\n",
    "    \n",
    "print(f\"change in percent: {round(get_percent(), 2)}%\")"
   ],
   "outputs": [
    {
     "output_type": "stream",
     "name": "stdout",
     "text": [
      "change in percent: 30.12%\n"
     ]
    }
   ],
   "metadata": {}
  },
  {
   "cell_type": "code",
   "execution_count": 29,
   "source": [
    "# 9. Which of the 5 biggest cities has the highest percentage of 'Never Married' in 2020?\n",
    "url = \"https://api.statbank.dk/v1/data/FOLK1A/CSV?delimiter=Semicolon&Tid=2020K1%2C2020K2%2C2020K3%2C2020K4&OMR%C3%85DE=*&CIVILSTAND=U%2CG%2CE%2CF\"\n",
    "data = pd.read_csv(url, sep=\";\", encoding=\"utf-8\")\n",
    "no_all_cities = data[data[\"OMRÅDE\"] != \"Hele landet\"]\n",
    "\n",
    "def get_five_biggest():\n",
    "    biggest_cities = no_all_cities.sort_values(\"INDHOLD\", ascending=False)\n",
    "    return biggest_cities[:20]\n",
    "    \n",
    "five_biggest = get_five_biggest()\n",
    "print(five_biggest[five_biggest.CIVILSTAND == \"Ugift\"].iloc[0])"
   ],
   "outputs": [
    {
     "output_type": "stream",
     "name": "stdout",
     "text": [
      "         TID              OMRÅDE      CIVILSTAND  INDHOLD\n",
      "1264  2020K4  Region Hovedstaden           Ugift   981652\n",
      "844   2020K3  Region Hovedstaden           Ugift   977487\n",
      "424   2020K2  Region Hovedstaden           Ugift   976457\n",
      "4     2020K1  Region Hovedstaden           Ugift   973802\n",
      "1552  2020K4  Region Midtjylland           Ugift   657563\n",
      "1132  2020K3  Region Midtjylland           Ugift   655924\n",
      "712   2020K2  Region Midtjylland           Ugift   655252\n",
      "292   2020K1  Region Midtjylland           Ugift   653428\n",
      "5     2020K1  Region Hovedstaden  Gift/separeret   620156\n",
      "1265  2020K4  Region Hovedstaden  Gift/separeret   619225\n",
      "425   2020K2  Region Hovedstaden  Gift/separeret   617833\n",
      "845   2020K3  Region Hovedstaden  Gift/separeret   616603\n",
      "1040  2020K3   Region Syddanmark           Ugift   569849\n",
      "620   2020K2   Region Syddanmark           Ugift   569654\n",
      "1460  2020K4   Region Syddanmark           Ugift   568943\n",
      "200   2020K1   Region Syddanmark           Ugift   568126\n",
      "293   2020K1  Region Midtjylland  Gift/separeret   497675\n",
      "1553  2020K4  Region Midtjylland  Gift/separeret   496269\n",
      "713   2020K2  Region Midtjylland  Gift/separeret   495964\n",
      "1133  2020K3  Region Midtjylland  Gift/separeret   494774\n",
      "TID                       2020K4\n",
      "OMRÅDE        Region Hovedstaden\n",
      "CIVILSTAND                 Ugift\n",
      "INDHOLD                   981652\n",
      "Name: 1264, dtype: object\n"
     ]
    }
   ],
   "metadata": {}
  },
  {
   "cell_type": "code",
   "execution_count": 65,
   "source": [
    "import matplotlib.pyplot as plt\n",
    "\n",
    "# 3. Show a bar chart of changes in marrital status in Copenhagen from 2008 till now\n",
    "url = \"https://api.statbank.dk/v1/data/FOLK1A/CSV?delimiter=Semicolon&OMR%C3%85DE=101&CIVILSTAND=G&Tid=*\"\n",
    "data = pd.read_csv(url, sep=\";\", encoding=\"utf-8\")\n",
    "\n",
    "def get_calculated_years():\n",
    "    currentYear = \"\"\n",
    "    currentTime = 0\n",
    "    time = dict()\n",
    "    for idx, year in enumerate(data[\"TID\"]):\n",
    "        year = year[:4]\n",
    "        if currentYear == \"\":\n",
    "            currentYear = year\n",
    "        if currentYear == year:\n",
    "            currentTime = currentTime + data.iloc[idx][\"INDHOLD\"]\n",
    "        else:\n",
    "            time.setdefault(year, currentTime)\n",
    "            currentYear = year\n",
    "            currentTime = 0\n",
    "    return time\n",
    "    \n",
    "years = get_calculated_years()\n",
    "print(years)\n",
    "\n",
    "plt.plot(list(years.keys()), list(years.values()))"
   ],
   "outputs": [
    {
     "output_type": "stream",
     "name": "stdout",
     "text": [
      "{'2009': 516300, '2010': 395239, '2011': 401855, '2012': 407680, '2013': 410976, '2014': 415123, '2015': 416244, '2016': 420499, '2017': 425139, '2018': 432030, '2019': 439760, '2020': 447174, '2021': 449780}\n"
     ]
    },
    {
     "output_type": "execute_result",
     "data": {
      "text/plain": [
       "[<matplotlib.lines.Line2D at 0x7f902dc6a1d0>]"
      ]
     },
     "metadata": {},
     "execution_count": 65
    },
    {
     "output_type": "display_data",
     "data": {
      "image/png": "[encoded data removed]",
      "text/plain": [
       "<Figure size 432x288 with 1 Axes>"
      ]
     },
     "metadata": {
      "needs_background": "light"
     }
    }
   ],
   "metadata": {}
  },
  {
   "cell_type": "code",
   "execution_count": 84,
   "source": [
    "# 4. Show 2 plots in same figure: 'Married' and 'Never Married' for all ages in DK in 2020 \n",
    "# (Hint: x axis is age from 0-125, y axis is how many people in the 2 categories). Add lengend to show names on graphs\n",
    "\n",
    "url = \"https://api.statbank.dk/v1/data/FOLK1A/CSV?delimiter=Semicolon&CIVILSTAND=G%2CU&ALDER=*&Tid=2020K1%2C2020K2%2C2020K3%2C2020K4\"\n",
    "data = pd.read_csv(url, sep=\";\", encoding=\"utf-8\")\n",
    "data = data[data[\"ALDER\"] != \"I alt\"]\n",
    "\n",
    "def get_plot(civil_stand: str):\n",
    "    values = data[data[\"CIVILSTAND\"] == civil_stand]\n",
    "    return plt.plot(values[\"ALDER\"], values[\"INDHOLD\"])\n",
    "\n",
    "p1 = get_plot(\"Gift/separeret\")\n",
    "p2 = get_plot(\"Ugift\")\n",
    "\n",
    "plt.legend()"
   ],
   "outputs": [
    {
     "output_type": "stream",
     "name": "stderr",
     "text": [
      "No handles with labels found to put in legend.\n"
     ]
    },
    {
     "output_type": "execute_result",
     "data": {
      "text/plain": [
       "<matplotlib.legend.Legend at 0x7f902d681bd0>"
      ]
     },
     "metadata": {},
     "execution_count": 84
    },
    {
     "output_type": "display_data",
     "data": {
      "image/png": "[encoded data removed]",
      "text/plain": [
       "<Figure size 432x288 with 1 Axes>"
      ]
     },
     "metadata": {
      "needs_background": "light"
     }
    }
   ],
   "metadata": {}
  },
  {
   "cell_type": "code",
   "execution_count": null,
   "source": [],
   "outputs": [],
   "metadata": {}
  },
  {
   "cell_type": "markdown",
   "source": [
    "## 04 Solution part 2"
   ],
   "metadata": {}
  },
  {
   "cell_type": "code",
   "execution_count": 5,
   "source": [],
   "outputs": [],
   "metadata": {}
  },
  {
   "cell_type": "code",
   "execution_count": null,
   "source": [],
   "outputs": [],
   "metadata": {}
  },
  {
   "cell_type": "code",
   "execution_count": null,
   "source": [],
   "outputs": [],
   "metadata": {}
  }
 ],
 "metadata": {
  "kernelspec": {
   "name": "python3",
   "display_name": "Python 3.7.6 64-bit ('base': conda)"
  },
  "language_info": {
   "codemirror_mode": {
    "name": "ipython",
    "version": 3
   },
   "file_extension": ".py",
   "mimetype": "text/x-python",
   "name": "python",
   "nbconvert_exporter": "python",
   "pygments_lexer": "ipython3",
   "version": "3.7.6"
  },
  "interpreter": {
   "hash": "d4d1e4263499bec80672ea0156c357c1ee493ec2b1c70f0acce89fc37c4a6abe"
  }
 },
 "nbformat": 4,
 "nbformat_minor": 4
}